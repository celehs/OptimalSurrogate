{
 "cells": [
  {
   "cell_type": "code",
   "execution_count": 1,
   "metadata": {},
   "outputs": [],
   "source": [
    "load(\"data/dataexample.RData\")\n",
    "source(\"code-ming/pte.R\")"
   ]
  },
  {
   "cell_type": "code",
   "execution_count": 2,
   "metadata": {},
   "outputs": [
    {
     "data": {
      "text/plain": [
       "   user  system elapsed \n",
       " 10.375   1.346  11.726 "
      ]
     },
     "metadata": {},
     "output_type": "display_data"
    }
   ],
   "source": [
    "set.seed(123)\n",
    "system.time(out <- pte(\n",
    "  sob = data$sob, yob = data$yob, aob = data$aob, \n",
    "  var = TRUE, conf.int = TRUE, rep = 1000))"
   ]
  },
  {
   "cell_type": "code",
   "execution_count": 3,
   "metadata": {},
   "outputs": [
    {
     "data": {
      "text/html": [
       "<dl>\n",
       "\t<dt>$delta</dt>\n",
       "\t\t<dd>-0.241275101968931</dd>\n",
       "\t<dt>$delta.gs</dt>\n",
       "\t\t<dd>-0.159752302097449</dd>\n",
       "\t<dt>$pte1</dt>\n",
       "\t\t<dd>0.662116815178136</dd>\n",
       "\t<dt>$pte2</dt>\n",
       "\t\t<dd>0.492723412293492</dd>\n",
       "\t<dt>$delta.se</dt>\n",
       "\t\t<dd>0.0313045858785401</dd>\n",
       "\t<dt>$delta.gs.se</dt>\n",
       "\t\t<dd>0.0200953621341334</dd>\n",
       "\t<dt>$pte1.se</dt>\n",
       "\t\t<dd>0.0584035516441328</dd>\n",
       "\t<dt>$pte2.se</dt>\n",
       "\t\t<dd>0.0268024329504295</dd>\n",
       "\t<dt>$conf.int.delta</dt>\n",
       "\t\t<dd><ol class=list-inline>\n",
       "\t<li>-0.30263209029087</li>\n",
       "\t<li>-0.179918113646993</li>\n",
       "</ol>\n",
       "</dd>\n",
       "\t<dt>$conf.int.delta.gs</dt>\n",
       "\t\t<dd><ol class=list-inline>\n",
       "\t<li>-0.19913921188035</li>\n",
       "\t<li>-0.120365392314547</li>\n",
       "</ol>\n",
       "</dd>\n",
       "\t<dt>$conf.int.pte1</dt>\n",
       "\t\t<dd><ol class=list-inline>\n",
       "\t<li>0.547645853955635</li>\n",
       "\t<li>0.776587776400636</li>\n",
       "</ol>\n",
       "</dd>\n",
       "\t<dt>$conf.int.pte2</dt>\n",
       "\t\t<dd><ol class=list-inline>\n",
       "\t<li>0.44019064371065</li>\n",
       "\t<li>0.545256180876333</li>\n",
       "</ol>\n",
       "</dd>\n",
       "</dl>\n"
      ],
      "text/latex": [
       "\\begin{description}\n",
       "\\item[\\$delta] -0.241275101968931\n",
       "\\item[\\$delta.gs] -0.159752302097449\n",
       "\\item[\\$pte1] 0.662116815178136\n",
       "\\item[\\$pte2] 0.492723412293492\n",
       "\\item[\\$delta.se] 0.0313045858785401\n",
       "\\item[\\$delta.gs.se] 0.0200953621341334\n",
       "\\item[\\$pte1.se] 0.0584035516441328\n",
       "\\item[\\$pte2.se] 0.0268024329504295\n",
       "\\item[\\$conf.int.delta] \\begin{enumerate*}\n",
       "\\item -0.30263209029087\n",
       "\\item -0.179918113646993\n",
       "\\end{enumerate*}\n",
       "\n",
       "\\item[\\$conf.int.delta.gs] \\begin{enumerate*}\n",
       "\\item -0.19913921188035\n",
       "\\item -0.120365392314547\n",
       "\\end{enumerate*}\n",
       "\n",
       "\\item[\\$conf.int.pte1] \\begin{enumerate*}\n",
       "\\item 0.547645853955635\n",
       "\\item 0.776587776400636\n",
       "\\end{enumerate*}\n",
       "\n",
       "\\item[\\$conf.int.pte2] \\begin{enumerate*}\n",
       "\\item 0.44019064371065\n",
       "\\item 0.545256180876333\n",
       "\\end{enumerate*}\n",
       "\n",
       "\\end{description}\n"
      ],
      "text/markdown": [
       "$delta\n",
       ":   -0.241275101968931\n",
       "$delta.gs\n",
       ":   -0.159752302097449\n",
       "$pte1\n",
       ":   0.662116815178136\n",
       "$pte2\n",
       ":   0.492723412293492\n",
       "$delta.se\n",
       ":   0.0313045858785401\n",
       "$delta.gs.se\n",
       ":   0.0200953621341334\n",
       "$pte1.se\n",
       ":   0.0584035516441328\n",
       "$pte2.se\n",
       ":   0.0268024329504295\n",
       "$conf.int.delta\n",
       ":   1. -0.30263209029087\n",
       "2. -0.179918113646993\n",
       "\n",
       "\n",
       "\n",
       "$conf.int.delta.gs\n",
       ":   1. -0.19913921188035\n",
       "2. -0.120365392314547\n",
       "\n",
       "\n",
       "\n",
       "$conf.int.pte1\n",
       ":   1. 0.547645853955635\n",
       "2. 0.776587776400636\n",
       "\n",
       "\n",
       "\n",
       "$conf.int.pte2\n",
       ":   1. 0.44019064371065\n",
       "2. 0.545256180876333\n",
       "\n",
       "\n",
       "\n",
       "\n",
       "\n"
      ],
      "text/plain": [
       "$delta\n",
       "[1] -0.2412751\n",
       "\n",
       "$delta.gs\n",
       "[1] -0.1597523\n",
       "\n",
       "$pte1\n",
       "[1] 0.6621168\n",
       "\n",
       "$pte2\n",
       "[1] 0.4927234\n",
       "\n",
       "$delta.se\n",
       "[1] 0.03130459\n",
       "\n",
       "$delta.gs.se\n",
       "[1] 0.02009536\n",
       "\n",
       "$pte1.se\n",
       "[1] 0.05840355\n",
       "\n",
       "$pte2.se\n",
       "[1] 0.02680243\n",
       "\n",
       "$conf.int.delta\n",
       "[1] -0.3026321 -0.1799181\n",
       "\n",
       "$conf.int.delta.gs\n",
       "[1] -0.1991392 -0.1203654\n",
       "\n",
       "$conf.int.pte1\n",
       "[1] 0.5476459 0.7765878\n",
       "\n",
       "$conf.int.pte2\n",
       "[1] 0.4401906 0.5452562\n"
      ]
     },
     "metadata": {},
     "output_type": "display_data"
    }
   ],
   "source": [
    "out"
   ]
  }
 ],
 "metadata": {
  "kernelspec": {
   "display_name": "R 3.5.2",
   "language": "R",
   "name": "ir352"
  },
  "language_info": {
   "codemirror_mode": "r",
   "file_extension": ".r",
   "mimetype": "text/x-r-source",
   "name": "R",
   "pygments_lexer": "r",
   "version": "3.5.2"
  }
 },
 "nbformat": 4,
 "nbformat_minor": 2
}
